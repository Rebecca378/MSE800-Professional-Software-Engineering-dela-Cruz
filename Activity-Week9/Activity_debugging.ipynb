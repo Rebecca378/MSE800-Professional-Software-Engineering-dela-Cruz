{
 "cells": [
  {
   "cell_type": "code",
   "execution_count": null,
   "id": "d54f011e-918e-4af8-9d88-bdd3abe5ac0a",
   "metadata": {},
   "outputs": [],
   "source": [
    "from random import randint"
   ]
  },
  {
   "cell_type": "code",
   "execution_count": 5,
   "id": "e02fd5e3-2b7e-471a-a87d-815b42ed4b54",
   "metadata": {},
   "outputs": [],
   "source": [
    "# example 1\n",
    "for i in range(1, 20): #1. The loop runs from 1 to 19, increasing by 1 each iteration.\n",
    "    if i == 20: #2. The function is intended to print \"You got it!\" when i reaches 20.\n",
    "        print(f\"You got it!\") # Assumption: The value of 'i' will reach 20 at some point.\n",
    "#    However, the range(1, 20) only goes from 1 to 19, meaning i will never be 20.\n",
    "#    As a result, the condition (i == 20) will never be met, and \"You got it!\" will never be printed.\n",
    "\n",
    "# Describe the problem - Write your answers as comments:\n",
    "# 1. what is the loop doing?\n",
    "# 2. When is the function meant to print \"You got it!\"?\n",
    "# 3. What are your assumptions about the value of i?"
   ]
  },
  {
   "cell_type": "code",
   "execution_count": 67,
   "id": "c98e40dc-8074-4260-aeeb-261b2b599563",
   "metadata": {},
   "outputs": [
    {
     "name": "stdout",
     "output_type": "stream",
     "text": [
      "You got it!\n",
      "20\n"
     ]
    }
   ],
   "source": [
    "for i in range(1, 21):  # Fix: Extend the range to include 20\n",
    "    if i == 20:\n",
    "        print(f\"You got it!\")  # This will now print correctly when i equals 20\n",
    "print(i)"
   ]
  },
  {
   "cell_type": "code",
   "execution_count": 114,
   "id": "8d18a63c-ab13-4a31-942c-be33a1607cda",
   "metadata": {},
   "outputs": [
    {
     "ename": "IndexError",
     "evalue": "list index out of range",
     "output_type": "error",
     "traceback": [
      "\u001b[1;31m---------------------------------------------------------------------------\u001b[0m",
      "\u001b[1;31mIndexError\u001b[0m                                Traceback (most recent call last)",
      "Cell \u001b[1;32mIn[114], line 4\u001b[0m\n\u001b[0;32m      2\u001b[0m dice_images \u001b[38;5;241m=\u001b[39m [\u001b[38;5;124m\"\u001b[39m\u001b[38;5;124m1\u001b[39m\u001b[38;5;124m\"\u001b[39m, \u001b[38;5;124m\"\u001b[39m\u001b[38;5;124m2\u001b[39m\u001b[38;5;124m\"\u001b[39m, \u001b[38;5;124m\"\u001b[39m\u001b[38;5;124m3\u001b[39m\u001b[38;5;124m\"\u001b[39m, \u001b[38;5;124m\"\u001b[39m\u001b[38;5;124m4\u001b[39m\u001b[38;5;124m\"\u001b[39m, \u001b[38;5;124m\"\u001b[39m\u001b[38;5;124m5\u001b[39m\u001b[38;5;124m\"\u001b[39m, \u001b[38;5;124m\"\u001b[39m\u001b[38;5;124m6\u001b[39m\u001b[38;5;124m\"\u001b[39m]\n\u001b[0;32m      3\u001b[0m dice_num \u001b[38;5;241m=\u001b[39m randint(\u001b[38;5;241m1\u001b[39m, \u001b[38;5;241m6\u001b[39m)\n\u001b[1;32m----> 4\u001b[0m \u001b[38;5;28mprint\u001b[39m(dice_images[dice_num])\n",
      "\u001b[1;31mIndexError\u001b[0m: list index out of range"
     ]
    }
   ],
   "source": [
    "# example 2\n",
    "dice_images = [\"1\", \"2\", \"3\", \"4\", \"5\", \"6\"]\n",
    "dice_num = randint(1, 6)\n",
    "print(dice_images[dice_num])"
   ]
  },
  {
   "cell_type": "code",
   "execution_count": 120,
   "id": "a865d918-5ee4-4c6a-beda-bbcd2e3ea9fa",
   "metadata": {},
   "outputs": [
    {
     "name": "stdout",
     "output_type": "stream",
     "text": [
      "6\n"
     ]
    }
   ],
   "source": [
    "from random import randint\n",
    "\n",
    "dice_images = [\"1\", \"2\", \"3\", \"4\", \"5\", \"6\"]\n",
    "dice_num = randint(0, 5)  # Generates a random number between 0 and 5 (matching list indexes)\n",
    "print(dice_images[dice_num])  # Correctly accesses elements"
   ]
  },
  {
   "cell_type": "code",
   "execution_count": 39,
   "id": "88ce2963-10bf-42ec-a02f-89811bda74fe",
   "metadata": {},
   "outputs": [
    {
     "name": "stdin",
     "output_type": "stream",
     "text": [
      "What is your year of birth? 1994\n"
     ]
    }
   ],
   "source": [
    "# example 3\n",
    "year = int(input(\"What is your year of birth?\"))\n",
    "\n",
    "if year > 1980 and year < 1994:\n",
    "    print(\"You are a Millennial\")\n",
    "elif year > 1994:\n",
    "    print(\"You are a Gen Z\")"
   ]
  },
  {
   "cell_type": "code",
   "execution_count": 29,
   "id": "95197a19-1f0c-49b1-8d98-06f9098eaa91",
   "metadata": {},
   "outputs": [
    {
     "name": "stdin",
     "output_type": "stream",
     "text": [
      "What is your year of birth? 1994\n"
     ]
    },
    {
     "name": "stdout",
     "output_type": "stream",
     "text": [
      "You are a Millennial\n"
     ]
    }
   ],
   "source": [
    "year = int(input(\"What is your year of birth?\"))  \n",
    "\n",
    "if 1981 <= year <= 1996:  # Includes years 1981 to 1996 for Millennials\n",
    "    print(\"You are a Millennial\")  \n",
    "elif year >= 1997:  # Starts Gen Z from 1997\n",
    "    print(\"You are a Gen Z\")  \n",
    "else:\n",
    "    print(\"Your birth year is before the Millennial generation\")  # Handles older birth years"
   ]
  },
  {
   "cell_type": "code",
   "execution_count": 37,
   "id": "c285fc19-0db3-4af1-bcbe-53bbbeccece4",
   "metadata": {},
   "outputs": [
    {
     "name": "stdin",
     "output_type": "stream",
     "text": [
      "Number of pages:  10\n",
      "Number of words per page:  2\n"
     ]
    },
    {
     "name": "stdout",
     "output_type": "stream",
     "text": [
      "We have 0 in total.\n"
     ]
    }
   ],
   "source": [
    "# example 4\n",
    "word_per_page = 0\n",
    "pages = int(input(\"Number of pages: \"))\n",
    "word_per_page == int(input(\"Number of words per page: \"))\n",
    "total_words = pages * word_per_page\n",
    "\n",
    "print(f\"We have {total_words} in total.\")"
   ]
  },
  {
   "cell_type": "code",
   "execution_count": 35,
   "id": "a06c6fa2-8fd9-471d-aed7-c76f37704579",
   "metadata": {},
   "outputs": [
    {
     "name": "stdin",
     "output_type": "stream",
     "text": [
      "Number of pages:  10\n",
      "Number of words per page:  2\n"
     ]
    },
    {
     "name": "stdout",
     "output_type": "stream",
     "text": [
      "We have 20 words in total.\n"
     ]
    }
   ],
   "source": [
    "word_per_page = 0  \n",
    "pages = int(input(\"Number of pages: \"))  \n",
    "word_per_page = int(input(\"Number of words per page: \"))  # Corrected assignment operator  \n",
    "total_words = pages * word_per_page  \n",
    "\n",
    "print(f\"We have {total_words} words in total.\")  # Improved wording for clarity"
   ]
  },
  {
   "cell_type": "code",
   "execution_count": 45,
   "id": "2effe735-10b3-4966-bb79-fffd2dc5138f",
   "metadata": {},
   "outputs": [],
   "source": [
    "# example 5\n",
    "def add(a1, a2):\n",
    "    return a1 + a2\n",
    "\n",
    "def mutate(a_list):\n",
    "    b_list = []\n",
    "    new_item = 0\n",
    "    for item in a_list:\n",
    "        new_item = item * 2\n",
    "        new_item += randint(1, 3)\n",
    "        new_item = add(new_item, item)\n",
    "    b_list.append(new_item)\n",
    "\n",
    "    print(b_list)"
   ]
  },
  {
   "cell_type": "code",
   "execution_count": 43,
   "id": "2f7d32a6-565c-4573-9fb2-6203e69943f9",
   "metadata": {},
   "outputs": [
    {
     "name": "stdout",
     "output_type": "stream",
     "text": [
      "[106]\n"
     ]
    }
   ],
   "source": [
    "a_demo_list = [1, 2, 3, 5, 1, 21, 4, 35]\n",
    "mutate(a_demo_list)"
   ]
  },
  {
   "cell_type": "code",
   "execution_count": 122,
   "id": "d4192a55-7ed1-4052-b5ac-3cc3a1c1a7c5",
   "metadata": {},
   "outputs": [
    {
     "name": "stdout",
     "output_type": "stream",
     "text": [
      "[4, 9, 11, 16, 4, 65, 13, 106]\n"
     ]
    }
   ],
   "source": [
    "from random import randint  \n",
    "\n",
    "def add(a1, a2):  \n",
    "    return a1 + a2  \n",
    "\n",
    "def mutate(a_list):  \n",
    "    b_list = []  # Initialize an empty list  \n",
    "    new_item = 0\n",
    "    for item in a_list:  \n",
    "        new_item = item * 2  # Double the item  \n",
    "        new_item += randint(1, 3)  # Add a random number between 1 and 3  \n",
    "        new_item = add(new_item, item)  # Add the original item  \n",
    "        b_list.append(new_item)  # Append each transformed item to b_list  \n",
    "\n",
    "    print(b_list)  \n",
    "\n",
    "# Example usage  \n",
    "a_demo_list = [1, 2, 3, 5, 1, 21, 4, 35]  \n",
    "mutate(a_demo_list)  "
   ]
  },
  {
   "cell_type": "code",
   "execution_count": null,
   "id": "9e5a165c-b73a-49d6-8682-54738797422e",
   "metadata": {},
   "outputs": [],
   "source": []
  }
 ],
 "metadata": {
  "kernelspec": {
   "display_name": "Python [conda env:base] *",
   "language": "python",
   "name": "conda-base-py"
  },
  "language_info": {
   "codemirror_mode": {
    "name": "ipython",
    "version": 3
   },
   "file_extension": ".py",
   "mimetype": "text/x-python",
   "name": "python",
   "nbconvert_exporter": "python",
   "pygments_lexer": "ipython3",
   "version": "3.12.7"
  }
 },
 "nbformat": 4,
 "nbformat_minor": 5
}
